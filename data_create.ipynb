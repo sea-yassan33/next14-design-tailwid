{
 "cells": [
  {
   "cell_type": "code",
   "execution_count": 2,
   "metadata": {},
   "outputs": [],
   "source": [
    "import pandas as pd\n",
    "import numpy as np\n",
    "import json"
   ]
  },
  {
   "cell_type": "code",
   "execution_count": 3,
   "metadata": {},
   "outputs": [
    {
     "data": {
      "text/html": [
       "<div>\n",
       "<style scoped>\n",
       "    .dataframe tbody tr th:only-of-type {\n",
       "        vertical-align: middle;\n",
       "    }\n",
       "\n",
       "    .dataframe tbody tr th {\n",
       "        vertical-align: top;\n",
       "    }\n",
       "\n",
       "    .dataframe thead th {\n",
       "        text-align: right;\n",
       "    }\n",
       "</style>\n",
       "<table border=\"1\" class=\"dataframe\">\n",
       "  <thead>\n",
       "    <tr style=\"text-align: right;\">\n",
       "      <th></th>\n",
       "      <th>title</th>\n",
       "      <th>description</th>\n",
       "      <th>link</th>\n",
       "      <th>imageUrl</th>\n",
       "      <th>createDate</th>\n",
       "      <th>updateDate</th>\n",
       "    </tr>\n",
       "  </thead>\n",
       "  <tbody>\n",
       "    <tr>\n",
       "      <th>0</th>\n",
       "      <td>sample02</td>\n",
       "      <td>アイテムのデザインサンプル。</td>\n",
       "      <td>/sample02</td>\n",
       "      <td>https://i.gyazo.com/505fc3f175597de655ce21fb4d...</td>\n",
       "      <td>24/09/07</td>\n",
       "      <td>24/09/07</td>\n",
       "    </tr>\n",
       "    <tr>\n",
       "      <th>1</th>\n",
       "      <td>sample01</td>\n",
       "      <td>画像、youtube動画の一覧を表示するデザイン。</td>\n",
       "      <td>/sample01</td>\n",
       "      <td>https://i.gyazo.com/f8bf59f059fe478e8ff969dc2c...</td>\n",
       "      <td>24/09/01</td>\n",
       "      <td>24/09/01</td>\n",
       "    </tr>\n",
       "  </tbody>\n",
       "</table>\n",
       "</div>"
      ],
      "text/plain": [
       "      title                description       link  \\\n",
       "0  sample02             アイテムのデザインサンプル。  /sample02   \n",
       "1  sample01  画像、youtube動画の一覧を表示するデザイン。  /sample01   \n",
       "\n",
       "                                            imageUrl createDate updateDate  \n",
       "0  https://i.gyazo.com/505fc3f175597de655ce21fb4d...   24/09/07   24/09/07  \n",
       "1  https://i.gyazo.com/f8bf59f059fe478e8ff969dc2c...   24/09/01   24/09/01  "
      ]
     },
     "execution_count": 3,
     "metadata": {},
     "output_type": "execute_result"
    }
   ],
   "source": [
    "df=pd.read_csv('./public/data/colect.csv')\n",
    "## update順\n",
    "df = df.sort_values('updateDate', ascending=False)\n",
    "# indexの振り直し\n",
    "df = df.reset_index()\n",
    "df = df.drop(['index'],axis=1)\n",
    "## nullは\"\"に置換\n",
    "df = df.fillna(\"\")\n",
    "## json用のリストを作成\n",
    "json_list=[]\n",
    "for index, row in df.iterrows():\n",
    "    json_item = {\n",
    "        \"title\" : row[\"title\"],\n",
    "        \"description\" : row[\"description\"],\n",
    "        \"link\" : row[\"link\"],\n",
    "        \"imageUrl\" : row[\"imageUrl\"],\n",
    "        \"createDate\" : row[\"createDate\"],\n",
    "        \"updateDate\" : row[\"updateDate\"],\n",
    "    }\n",
    "    json_list.append(json_item)\n",
    "## jsonファイルに書き換える\n",
    "with open('./public/data/colect.json', 'w') as f:\n",
    "    json.dump(json_list, f,ensure_ascii=False, indent=4)\n",
    "df"
   ]
  }
 ],
 "metadata": {
  "kernelspec": {
   "display_name": "Python 3",
   "language": "python",
   "name": "python3"
  },
  "language_info": {
   "codemirror_mode": {
    "name": "ipython",
    "version": 3
   },
   "file_extension": ".py",
   "mimetype": "text/x-python",
   "name": "python",
   "nbconvert_exporter": "python",
   "pygments_lexer": "ipython3",
   "version": "3.10.11"
  }
 },
 "nbformat": 4,
 "nbformat_minor": 2
}
